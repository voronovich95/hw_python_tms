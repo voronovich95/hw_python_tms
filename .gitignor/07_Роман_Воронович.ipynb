{
 "cells": [
  {
   "cell_type": "markdown",
   "id": "797f8638-7e29-4569-a423-f0d6ef3d8fa9",
   "metadata": {},
   "source": [
    "1.Написать лямбда функцию определяющую чётное/нечётное. Функция принимает определяю определяющую чётное/нечётное. Функция принимает щую определяющую чётное/нечётное. Функция принимает чётное нечётное Функция принимаетпараметр число и если чётное то выдаёт слово “чётное”, если нет - то “нечётное”. если нет то “нечётное”."
   ]
  },
  {
   "cell_type": "code",
   "execution_count": 1,
   "id": "4f5a3f4e-6ab5-40a9-b8bc-5d6dec63d382",
   "metadata": {
    "scrolled": true
   },
   "outputs": [
    {
     "name": "stdout",
     "output_type": "stream",
     "text": [
      "четное\n"
     ]
    }
   ],
   "source": [
    "get_value = lambda x: \"четное\" if x % 2 == 0 else \"нечетное\"\n",
    "print(get_value(8))"
   ]
  },
  {
   "cell_type": "markdown",
   "id": "710dacbe-9859-4f72-be47-e64d68129f88",
   "metadata": {},
   "source": [
    "2.Дан список чисел Вернуть список где при помощи функции map() каждое число каждое число переведено в строку В качестве функции в map() каждое число исползовать lambda map()."
   ]
  },
  {
   "cell_type": "code",
   "execution_count": 2,
   "id": "271802b5-05c0-4d3e-9db3-0748cabacb0e",
   "metadata": {
    "scrolled": true
   },
   "outputs": [
    {
     "name": "stdout",
     "output_type": "stream",
     "text": [
      "['1', '2', '3', '4', '5', '6']\n"
     ]
    }
   ],
   "source": [
    "numbers = [1, 2, 3, 4, 5, 6]\n",
    "result = map(lambda x: str(x), numbers)\n",
    "print(list(result))"
   ]
  },
  {
   "cell_type": "markdown",
   "id": "e761a410-355c-49c6-83ed-baf133ad9c09",
   "metadata": {},
   "source": [
    "3.При помощи функции filter() из котрежа слов отфильтровать только те, которые из котрежа слов отфильтровать только те которые являю определяющую чётное/нечётное. Функция принимает тся полиндромами которые читаю определяющую чётное/нечётное. Функция принимает одинаково в обе стороны"
   ]
  },
  {
   "cell_type": "code",
   "execution_count": 5,
   "id": "c5496c92-0951-4bd6-afed-9269d1ddf7d2",
   "metadata": {
    "scrolled": true
   },
   "outputs": [
    {
     "name": "stdout",
     "output_type": "stream",
     "text": [
      "12321\n",
      "шалаш\n",
      "non\n",
      "['12321', 'шалаш', 'non']\n"
     ]
    }
   ],
   "source": [
    "tuple_value = ('12321', 'python', 'force', 'шалаш', 'non')\n",
    "def get_palindromes():\n",
    "     for i in tuple_value:\n",
    "         if i == i[::-1]:\n",
    "             print(i)\n",
    "get_palindromes()\n",
    "\n",
    "result = filter(lambda x: x == x[::-1], tuple_value)\n",
    "print(list(result))"
   ]
  },
  {
   "cell_type": "markdown",
   "id": "62129517-1732-45fd-b74d-2659f98a3c37",
   "metadata": {},
   "source": [
    "4.Написать декоратор к 2-м любым функциям который бы считал и выводил время бы считал и выводил время их выполнения. Подсказка: выполнения Подсказка map() . map() : from datetime import datetime time = datetime.now()"
   ]
  },
  {
   "cell_type": "code",
   "execution_count": 6,
   "id": "36c6a0ca-9326-46bf-8b97-661d03a501d7",
   "metadata": {
    "scrolled": true
   },
   "outputs": [
    {
     "name": "stdout",
     "output_type": "stream",
     "text": [
      "Время выполнения: 0:00:00.000005 секунд.\n",
      "Время выполнения: 0:00:00.000004 секунд.\n"
     ]
    }
   ],
   "source": [
    "from datetime import datetime\n",
    "tuple_value = ('12321', 'python', 'force', 'шалаш', 'non')\n",
    "strint_value = '12321 python force шалаш non'\n",
    "\n",
    "def get_time_working(func):\n",
    "     def wrapper():\n",
    "         start = datetime.now()\n",
    "         func()\n",
    "         end = datetime.now()\n",
    "         print('Время выполнения: {} секунд.'.format(end - start))\n",
    "     return wrapper\n",
    "\n",
    "@get_time_working\n",
    "def get_len_tuple():\n",
    "     return len(tuple_value)\n",
    "get_len_tuple()\n",
    "\n",
    "@get_time_working\n",
    "def get_tuple_from_string():\n",
    "    new_string = tuple(strint_value.split())\n",
    "    return new_string\n",
    "get_tuple_from_string()"
   ]
  },
  {
   "cell_type": "markdown",
   "id": "8838ac40-3440-4bc0-91bb-e7bf9bde02b1",
   "metadata": {},
   "source": [
    "5.Сделать функцию которая на вход принимает строку. Анализирует ее исключительно методом isdigit без доп библиотек и переводит строку. Функция умеет распознавать отрицательные числа и десятичные дроби."
   ]
  },
  {
   "cell_type": "code",
   "execution_count": 7,
   "id": "76d38cb7-dfa4-4770-8070-362752905093",
   "metadata": {
    "scrolled": true
   },
   "outputs": [
    {
     "name": "stdout",
     "output_type": "stream",
     "text": [
      "Вы ввели целое отрицательно число: -2\n"
     ]
    }
   ],
   "source": [
    "def get_int_from_str(text):\n",
    "    a = \"Вы ввели\"\n",
    "    try:\n",
    "        input_value = int(text)\n",
    "        if input_value > 0:\n",
    "            print(a, \"целое положительно число:\", input_value)\n",
    "        else:\n",
    "            print(a, \"целое отрицательно число:\", input_value)\n",
    "    except:\n",
    "        try:\n",
    "            input_value = float(text)\n",
    "            if input_value > 0:\n",
    "                print(a, \"положительно дробное число:\", input_value)\n",
    "            else:\n",
    "                print(a, \"дробное число:\", input_value)\n",
    "        except:\n",
    "            print(a, \"некорректное число\")\n",
    "\n",
    "get_int_from_str(\"-2\")"
   ]
  }
 ],
 "metadata": {
  "kernelspec": {
   "display_name": "Python 3 (ipykernel)",
   "language": "python",
   "name": "python3"
  },
  "language_info": {
   "codemirror_mode": {
    "name": "ipython",
    "version": 3
   },
   "file_extension": ".py",
   "mimetype": "text/x-python",
   "name": "python",
   "nbconvert_exporter": "python",
   "pygments_lexer": "ipython3",
   "version": "3.10.12"
  }
 },
 "nbformat": 4,
 "nbformat_minor": 5
}
