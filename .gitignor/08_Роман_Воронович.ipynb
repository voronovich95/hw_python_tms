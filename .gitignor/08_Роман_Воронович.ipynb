{
 "cells": [
  {
   "cell_type": "markdown",
   "id": "65117080-fcc1-4b4c-944c-d664e1956438",
   "metadata": {},
   "source": [
    "1. Декодировать в строку байтовое значение: b'r\\xc3\\xa9sum\\xc3\\xa9'. Затем результат преодразовать в байтовый вид в кодировке ‘Latin1’ затем результат снова декодировать в строку (резултат всех преобразований выводить на экран)"
   ]
  },
  {
   "cell_type": "code",
   "execution_count": 1,
   "id": "96653a9d-1429-48a2-91a7-4b16354a3b95",
   "metadata": {
    "scrolled": true
   },
   "outputs": [
    {
     "name": "stdout",
     "output_type": "stream",
     "text": [
      "b'r\\xc3\\xa9sum\\xc3\\xa9'\n",
      "b'r\\xe9sum\\xe9'\n",
      "résumé\n"
     ]
    }
   ],
   "source": [
    "first_str = b\"r\\xc3\\xa9sum\\xc3\\xa9\"\n",
    "dec_str = first_str.decode('utf-8')\n",
    "enc_str = dec_str.encode('latin1')\n",
    "last_str = enc_str.decode('latin1')\n",
    "print(first_str)\n",
    "print(enc_str)\n",
    "print(last_str)"
   ]
  },
  {
   "cell_type": "markdown",
   "id": "e35c6728-b312-4e3c-a3f1-6a2d96e9bb37",
   "metadata": {},
   "source": [
    "2. Ввести с клавиатуры 4 строки и сохранить их в разные 4 переменные. Создать файл и записать в него первые2 строки и закрыть файл. Затем открыть файл на редактирвоание и дозаписать оставшиеся 2 строки. В итоговом файле должны быть строки, каждая из которых должна начинаться с новой строки."
   ]
  },
  {
   "cell_type": "code",
   "execution_count": 2,
   "id": "244e6931-e697-4645-a113-1a8f1b26d937",
   "metadata": {},
   "outputs": [],
   "source": [
    "str_1 = \"Ввести с клавиатуры\"\n",
    "str_2 = \"4 строки и сохранить\"\n",
    "str_3 = \"их в разные 4 переменные\"\n",
    "str_4 = \"Создать файл и записать \"\n",
    "with open('file_str.txt', 'w', encoding='utf-8') as file:\n",
    "    file.write(f'{str_1}\\n{str_2}\\n')\n",
    "with open('file_str.txt', 'a', encoding='utf-8') as file:\n",
    "    file.write(f'{str_3}\\n{str_4}\\n')"
   ]
  },
  {
   "cell_type": "markdown",
   "id": "c1afcd1a-3371-40ed-a392-ef9425d53e41",
   "metadata": {},
   "source": [
    "3. Создать словарь в качестве ключа которого будет 6-ти значное число (id) а в качестве значений кортеж состоящий из двух элементов имя(str, возврост(int). Сделать около 5-6 элементов словаряЗаписать данный словарь на диск в json файл."
   ]
  },
  {
   "cell_type": "code",
   "execution_count": 3,
   "id": "f420b621-3600-4048-8fe4-b587192fa7ce",
   "metadata": {},
   "outputs": [],
   "source": [
    "import json\n",
    "dict_1 = {111112: (\"roman\", 28),\n",
    "          111113: (\"darya\", 27),\n",
    "          111114: (\"tima\", 5),\n",
    "          111115: (\"olivia\", 1),\n",
    "          111116: (\"toma\", 48)}\n",
    "with open('file_json.json', 'w') as file:\n",
    "    json.dump(dict_1, file, indent=2, ensure_ascii=False)"
   ]
  },
  {
   "cell_type": "markdown",
   "id": "9cd33a68-fc2c-4e16-a5d9-34b3c2b11c3e",
   "metadata": {},
   "source": [
    "4. Прочитать сохраненный json-файл и записать данные на диск в csv-файл, первой строкой которого озоглавив первый столбец и добавив новый столбец \"телефон\""
   ]
  },
  {
   "cell_type": "code",
   "execution_count": null,
   "id": "cd0a6161-4ce3-4286-b4f1-88e8fc629b90",
   "metadata": {},
   "outputs": [],
   "source": [
    "import json\n",
    "import csv\n",
    "\n",
    "with open('file_json.json', 'r') as file_json:\n",
    "    data_json = json.load(file_json)\n",
    "\n",
    "with open('data.csv', 'w') as file_csv:\n",
    "    name_colum = ['id', 'name', 'age', 'phone']\n",
    "    numbers = ['111-111', '222-222', '333-333', '555-555', '666-666']\n",
    "    data_csv = csv.DictWriter(file_csv, fieldnames=name_colum)\n",
    "    data_csv.writeheader()\n",
    "    for i, j in zip(data_json, numbers):\n",
    "        data_csv.writerow({'id': i, 'name': data_json[i][0], 'age': data_json[i][1], 'phone': j})\n",
    "\n",
    "with open('data.csv', 'r') as file_csv:\n",
    "    data_csv_read = csv.reader(file_csv)\n",
    "    for i in data_csv_read:\n",
    "        print(i)\n"
   ]
  },
  {
   "cell_type": "markdown",
   "id": "46d1ffed-b13a-4769-9993-a9d6778d3206",
   "metadata": {},
   "source": [
    "5. Прочитать сохранённый csv-файл и сохранить данные в excel-файле, кроме возраста - столбец с этими данными не нужен. Таблица должна выглядить, как на примере."
   ]
  },
  {
   "cell_type": "code",
   "execution_count": null,
   "id": "217cf4ba-9e40-4eab-95f2-f463342b9279",
   "metadata": {},
   "outputs": [],
   "source": [
    "import csv\n",
    "import openpyxl\n",
    "\n",
    "with open('data.csv', 'r') as file_csv:\n",
    "    data_csv = csv.DictReader(file_csv)\n",
    "\n",
    "    workbook = openpyxl.Workbook()\n",
    "    worksheet = workbook.active\n",
    "\n",
    "    for i, dct in enumerate(data_csv):\n",
    "        print(dct)\n",
    "        del dct['age']\n",
    "        if i == 0:\n",
    "            worksheet.append(list(dct.keys()))\n",
    "        worksheet.append(list(dct.values()))\n",
    "    workbook.save('data.xlsx')\n"
   ]
  }
 ],
 "metadata": {
  "kernelspec": {
   "display_name": "Python 3 (ipykernel)",
   "language": "python",
   "name": "python3"
  },
  "language_info": {
   "codemirror_mode": {
    "name": "ipython",
    "version": 3
   },
   "file_extension": ".py",
   "mimetype": "text/x-python",
   "name": "python",
   "nbconvert_exporter": "python",
   "pygments_lexer": "ipython3",
   "version": "3.10.12"
  }
 },
 "nbformat": 4,
 "nbformat_minor": 5
}
